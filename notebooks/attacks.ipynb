{
 "cells": [
  {
   "cell_type": "markdown",
   "metadata": {},
   "source": [
    "# Adversarial attacks"
   ]
  },
  {
   "cell_type": "code",
   "execution_count": null,
   "metadata": {},
   "outputs": [],
   "source": [
    "%load_ext autoreload\n",
    "%autoreload 2\n",
    "%matplotlib inline\n",
    "\n",
    "import sys\n",
    "sys.path.append('..')"
   ]
  },
  {
   "cell_type": "code",
   "execution_count": null,
   "metadata": {},
   "outputs": [],
   "source": [
    "import matplotlib.pyplot as plt\n",
    "import numpy as np\n",
    "from PIL import Image\n",
    "import torch\n",
    "import torch.nn as nn\n",
    "from torchvision import transforms\n",
    "from torchvision.models import resnet18, ResNet18_Weights\n",
    "\n",
    "from adv_utils import FGSMAttack"
   ]
  },
  {
   "cell_type": "markdown",
   "metadata": {},
   "source": [
    "## Load model"
   ]
  },
  {
   "cell_type": "code",
   "execution_count": null,
   "metadata": {},
   "outputs": [],
   "source": [
    "# set model weights\n",
    "weights = ResNet18_Weights.DEFAULT\n",
    "\n",
    "# create preprocessor\n",
    "preprocessor = weights.transforms()\n",
    "\n",
    "# load model\n",
    "model = resnet18(weights=weights)\n",
    "model = model.eval()\n",
    "\n",
    "# get class names\n",
    "class_names = weights.meta['categories']"
   ]
  },
  {
   "cell_type": "markdown",
   "metadata": {},
   "source": [
    "## Load image"
   ]
  },
  {
   "cell_type": "code",
   "execution_count": null,
   "metadata": {},
   "outputs": [],
   "source": [
    "# load image\n",
    "image_path = '../test.jpg'\n",
    "\n",
    "image = Image.open(image_path)"
   ]
  },
  {
   "cell_type": "code",
   "execution_count": null,
   "metadata": {},
   "outputs": [],
   "source": [
    "# show image\n",
    "fig, ax = plt.subplots(figsize=(6, 4))\n",
    "ax.imshow(np.asarray(image))\n",
    "ax.set_aspect('equal', adjustable='box')\n",
    "fig.tight_layout()"
   ]
  },
  {
   "cell_type": "markdown",
   "metadata": {},
   "source": [
    "## Run model"
   ]
  },
  {
   "cell_type": "code",
   "execution_count": null,
   "metadata": {},
   "outputs": [],
   "source": [
    "# preprocess image\n",
    "x = preprocessor(image) # (3, h, w)\n",
    "x = x.unsqueeze(0) # (1, 3, h, w)\n",
    "\n",
    "# run model\n",
    "with torch.no_grad():\n",
    "    logits = model(x) # (1, 1000)\n",
    "\n",
    "# get predicted label\n",
    "label_ids = logits.argmax(dim=1) # (1,)\n",
    "labels = [class_names[lidx.item()] for lidx in label_ids]\n",
    "\n",
    "print(f'Label: {labels}')"
   ]
  },
  {
   "cell_type": "markdown",
   "metadata": {},
   "source": [
    "## Perform attack"
   ]
  },
  {
   "cell_type": "code",
   "execution_count": null,
   "metadata": {},
   "outputs": [],
   "source": [
    "# perform FGSM attack\n",
    "fgsm = FGSMAttack(\n",
    "    model=model,\n",
    "    criterion=nn.CrossEntropyLoss()\n",
    ")\n",
    "\n",
    "fgsm_x = fgsm(\n",
    "    image=x,\n",
    "    label=label_ids,\n",
    "    eps=0.003,\n",
    "    targeted=False\n",
    ")"
   ]
  },
  {
   "cell_type": "code",
   "execution_count": null,
   "metadata": {},
   "outputs": [],
   "source": [
    "# run model\n",
    "with torch.no_grad():\n",
    "    fgsm_logits = model(fgsm_x) # (1, 1000)\n",
    "\n",
    "# get predicted label\n",
    "fgsm_label_ids = fgsm_logits.argmax(dim=1) # (1,)\n",
    "fgsm_labels = [class_names[lidx.item()] for lidx in fgsm_label_ids]\n",
    "\n",
    "print(f'Label: {fgsm_labels}')"
   ]
  },
  {
   "cell_type": "code",
   "execution_count": null,
   "metadata": {},
   "outputs": [],
   "source": [
    "# create inverse normalization\n",
    "renormalizer = transforms.Compose([\n",
    "    transforms.Normalize(\n",
    "        mean=[-m/s for m, s in zip(preprocessor.mean, preprocessor.std)],\n",
    "        std=[1/s for s in preprocessor.std]\n",
    "    ),\n",
    "    transforms.Lambda(lambda x: x.clamp(0, 1))\n",
    "])"
   ]
  },
  {
   "cell_type": "code",
   "execution_count": null,
   "metadata": {},
   "outputs": [],
   "source": [
    "# show images\n",
    "fig, (ax1, ax2) = plt.subplots(nrows=1, ncols=2, figsize=(8, 4))\n",
    "\n",
    "ax1.imshow(renormalizer(x[0]).permute(1, 2, 0).numpy())\n",
    "ax1.set_aspect('equal', adjustable='box')\n",
    "ax1.set_title(f'Predicted: {labels[0]}')\n",
    "\n",
    "ax2.imshow(renormalizer(fgsm_x[0]).permute(1, 2, 0).numpy())\n",
    "ax2.set_aspect('equal', adjustable='box')\n",
    "ax2.set_title(f'Predicted: {fgsm_labels[0]}')\n",
    "\n",
    "fig.tight_layout()"
   ]
  }
 ],
 "metadata": {
  "kernelspec": {
   "display_name": "Python 3 (ipykernel)",
   "language": "python",
   "name": "python3"
  },
  "language_info": {
   "codemirror_mode": {
    "name": "ipython",
    "version": 3
   },
   "file_extension": ".py",
   "mimetype": "text/x-python",
   "name": "python",
   "nbconvert_exporter": "python",
   "pygments_lexer": "ipython3",
   "version": "3.12.7"
  }
 },
 "nbformat": 4,
 "nbformat_minor": 4
}
